{
 "cells": [
  {
   "cell_type": "markdown",
   "metadata": {},
   "source": [
    "Kata 1"
   ]
  },
  {
   "cell_type": "code",
   "execution_count": null,
   "metadata": {},
   "outputs": [],
   "source": [
    "def num_to_rom(n):\n",
    "\n",
    "    resultado = \"\"\n",
    "\n",
    "    letras = [0] * 7\n",
    "    caracteres = (\"m\", \"d\", \"c\", \"l\", \"x\", \"v\", \"i\")\n",
    "    valores = (1000, 500, 100, 50, 10, 5, 1)\n",
    "\n",
    "    for i in range(len(letras)):\n",
    "\n",
    "        if n % valores[i] == 4:\n",
    "            pass\n",
    "\n",
    "        letras[i] = n // valores[i]\n",
    "        if letras[i] > 0 and letras[i] < 4:\n",
    "            n = n % valores[i]\n",
    "            resultado += caracteres[i] * letras[i]\n",
    "\n",
    "        elif letras[i] == 4:\n",
    "            n = n % valores[i]\n",
    "            resultado += caracteres[i] + caracteres[i-1]\n",
    "\n",
    "    return resultado"
   ]
  },
  {
   "cell_type": "code",
   "execution_count": null,
   "metadata": {},
   "outputs": [],
   "source": [
    "# Sin acabar"
   ]
  },
  {
   "cell_type": "markdown",
   "metadata": {},
   "source": [
    "Kata 2"
   ]
  },
  {
   "cell_type": "code",
   "execution_count": 12,
   "metadata": {},
   "outputs": [],
   "source": [
    "def pares_con_suma(lista, n):\n",
    "\n",
    "    # Creamos una lista vacía para almacenar los pares\n",
    "    resultado = []\n",
    "\n",
    "    # Recorremos la lista de números\n",
    "    for i in range(len(lista)):\n",
    "        # Para cada número recorremos los siguientes\n",
    "        for j in range(i + 1, len(lista)):\n",
    "            # Comprobamos si cada par es n\n",
    "            if lista[i] + lista[j] == n:\n",
    "                # En caso afirmativo añadimos el par el resultado\n",
    "                resultado.append((lista[i], lista[j]))\n",
    "\n",
    "    return resultado"
   ]
  },
  {
   "cell_type": "code",
   "execution_count": 11,
   "metadata": {},
   "outputs": [
    {
     "name": "stdout",
     "output_type": "stream",
     "text": [
      "[(1, 4), (2, 3)]\n",
      "[(25, 75)]\n",
      "[(2, 8), (3, 7)]\n",
      "[(-1, 4)]\n"
     ]
    }
   ],
   "source": [
    "print(pares_con_suma([1, 2, 3, 4], 5))\n",
    "print(pares_con_suma([25, 50, 28, 29, 75], 100))\n",
    "print(pares_con_suma([2, 4, 3, 5, 7, 8, 9], 10))\n",
    "print(pares_con_suma([-1, 2, 9, -2, 3, 4, 6], 3))"
   ]
  },
  {
   "cell_type": "markdown",
   "metadata": {},
   "source": [
    "Kata 3"
   ]
  },
  {
   "cell_type": "code",
   "execution_count": 4,
   "metadata": {},
   "outputs": [],
   "source": [
    "def fibonacci(n):\n",
    "    # Creamos una lista que comience con los números de fibonacci\n",
    "    r = [0,1]\n",
    "    \n",
    "    # En caso de que n sea negativo o igual a 0, lista vacía\n",
    "    if n <= 0:\n",
    "        r.clear()\n",
    "        return r\n",
    "    \n",
    "    # Si n es 1 solo tenemos el elemento 0\n",
    "    elif n == 1:\n",
    "        return [0]\n",
    "\n",
    "    # Calculamos el último elemento y lo añadimos, hasta que llegue a n\n",
    "    while (r[-1] + r[-2]) < n:\n",
    "        r.append(r[-1] + r[-2])\n",
    "    \n",
    "    r.append(r[-1] + r[-2])\n",
    "    return r"
   ]
  },
  {
   "cell_type": "code",
   "execution_count": 7,
   "metadata": {},
   "outputs": [
    {
     "data": {
      "text/plain": [
       "[0, 1, 1, 2, 3, 5]"
      ]
     },
     "execution_count": 7,
     "metadata": {},
     "output_type": "execute_result"
    }
   ],
   "source": [
    "fibonacci(4)"
   ]
  },
  {
   "cell_type": "markdown",
   "metadata": {},
   "source": [
    "Kata 4"
   ]
  },
  {
   "cell_type": "code",
   "execution_count": 8,
   "metadata": {},
   "outputs": [],
   "source": [
    "def mayor_suma_sublista(lista):\n",
    "\n",
    "    n = len(lista)\n",
    "\n",
    "    sublista = [lista[0]]\n",
    "    mx = lista[0]\n",
    "\n",
    "    if n == 1:\n",
    "        return sublista\n",
    "\n",
    "    for i in range(n):\n",
    "        for j in range(i + 1, n):\n",
    "            suma = sum(lista[i:j+1])\n",
    "            if suma > mx:\n",
    "                mx = suma\n",
    "                sublista = lista[i:j+1]\n",
    "\n",
    "    return sublista"
   ]
  },
  {
   "cell_type": "code",
   "execution_count": 9,
   "metadata": {},
   "outputs": [
    {
     "name": "stdout",
     "output_type": "stream",
     "text": [
      "[4, -1, 2, 1]\n",
      "[1, 2, 3, 4, 5]\n",
      "[-1]\n"
     ]
    }
   ],
   "source": [
    "print(mayor_suma_sublista([-2, 2, -3, 4, -1, 2, 1, -5, 4]))\n",
    "print(mayor_suma_sublista([1, 2, 3, 4, 5]))\n",
    "print(mayor_suma_sublista([-1, -2, -3, -4, -5]))"
   ]
  },
  {
   "cell_type": "markdown",
   "metadata": {},
   "source": [
    "Kata 5"
   ]
  },
  {
   "cell_type": "code",
   "execution_count": 10,
   "metadata": {},
   "outputs": [],
   "source": [
    "def llenar_mochila(lista, maximo):\n",
    "\n",
    "    peso = 0\n",
    "    lista.sort()\n",
    "\n",
    "    for i in range(len(lista)):\n",
    "        peso += lista[i]\n",
    "        if peso > maximo:\n",
    "            return i\n",
    "        \n",
    "    return len(lista)"
   ]
  },
  {
   "cell_type": "code",
   "execution_count": 11,
   "metadata": {},
   "outputs": [
    {
     "name": "stdout",
     "output_type": "stream",
     "text": [
      "3\n",
      "1\n",
      "0\n"
     ]
    }
   ],
   "source": [
    "print(llenar_mochila([1, 29, 16], 179))\n",
    "print(llenar_mochila([23, 98, 109], 100))\n",
    "print(llenar_mochila([198, 281, 99], 50))"
   ]
  },
  {
   "cell_type": "markdown",
   "metadata": {},
   "source": [
    "Kata 6"
   ]
  },
  {
   "cell_type": "code",
   "execution_count": 12,
   "metadata": {},
   "outputs": [],
   "source": [
    "def encontrar_faltante(lista):\n",
    "    for i in range(1,len(lista)):\n",
    "        if abs(lista[i] - lista[i-1]) != 1:\n",
    "            return max(lista[i], lista[i-1]) - 1"
   ]
  },
  {
   "cell_type": "code",
   "execution_count": 13,
   "metadata": {},
   "outputs": [
    {
     "name": "stdout",
     "output_type": "stream",
     "text": [
      "3\n",
      "6\n",
      "103\n",
      "1003\n"
     ]
    }
   ],
   "source": [
    "print(encontrar_faltante([1, 2, 4, 5, 6]))\n",
    "print(encontrar_faltante([3, 4, 5, 7, 8]))\n",
    "print(encontrar_faltante([101, 102, 104]))\n",
    "print(encontrar_faltante([1001, 1002, 1004]))"
   ]
  },
  {
   "cell_type": "markdown",
   "metadata": {},
   "source": [
    "Kata 7"
   ]
  },
  {
   "cell_type": "code",
   "execution_count": 14,
   "metadata": {},
   "outputs": [],
   "source": [
    "def numeros_a_palabras(numero):\n",
    "    if numero == 0:\n",
    "        return 'Cero'\n",
    "    \n",
    "    en_palabras = ''\n",
    "    \n",
    "    unidades =['', 'uno','dos', 'tres', 'cuatro', 'cinco', 'seis', 'siete', 'ocho', 'nueve']\n",
    "    decenas = ['', 'dieci', 'veinti', 'treinta y ', 'cuarenta y ', 'cincuenta y ', 'sesenta y ', 'setenta y ', 'ochenta y ', 'noventa y ']\n",
    "    centenas = ['', 'ciento', 'doscientos', 'trescientos', 'cuatrocientos', 'quinientos', 'seiscientos', 'setecientos', 'ochocientos', 'novecientos']\n",
    "    unidades_mil =['', 'un mil','dos mil', 'tres mil', 'cuatro mil', 'cinco mil', 'seis mil', 'siete mil', 'ocho mil', 'nueve mil']\n",
    "    \n",
    "    # Ponemos ceros delante\n",
    "    numero = '0' *(4-len(str(numero))) + str(numero)\n",
    "    \n",
    "    unidad = int(numero[-1])\n",
    "    decena = int(numero[-2])\n",
    "    centena = int(numero[-3])\n",
    "    unidad_mil = int(numero[-4])\n",
    "    \n",
    "    # Strip saca espacio en blanco al tener menos digitos\n",
    "    en_palabras = '{} {} {}{}'.format(unidades_mil[unidad_mil], centenas[centena], decenas[decena], unidades[unidad]).strip()\n",
    "\n",
    "    #casos especiales a cambiar:\n",
    "    en_palabras = en_palabras.replace('dieciuno', 'once')\n",
    "    en_palabras = en_palabras.replace('diecidos', 'doce')\n",
    "    en_palabras = en_palabras.replace('diecitres', 'trece')\n",
    "    en_palabras = en_palabras.replace('diecicuatro', 'catorce')\n",
    "    en_palabras = en_palabras.replace('diecicinco', 'quince')\n",
    "    \n",
    "    #cuando termina en:\n",
    "    if en_palabras.endswith('dieci'):\n",
    "        en_palabras = en_palabras.replace('dieci', 'diez')\n",
    "    elif en_palabras.endswith('veinti'):\n",
    "        en_palabras = en_palabras.replace('veinti', 'veinte')\n",
    "    elif en_palabras.endswith(' y'):\n",
    "        en_palabras = en_palabras[:-2]\n",
    "    elif en_palabras.endswith('ciento'):\n",
    "        en_palabras = en_palabras.replace('ciento', 'cien')\n",
    "    \n",
    "    return en_palabras.capitalize()"
   ]
  },
  {
   "cell_type": "code",
   "execution_count": 18,
   "metadata": {},
   "outputs": [
    {
     "name": "stdout",
     "output_type": "stream",
     "text": [
      "Quince\n",
      "Dieciseis\n",
      "Nueve mil novecientos noventa y nueve\n",
      "Ciento dos\n",
      "Cero\n"
     ]
    }
   ],
   "source": [
    "print(numeros_a_palabras(15))\n",
    "print(numeros_a_palabras(16))\n",
    "print(numeros_a_palabras(9999))\n",
    "print(numeros_a_palabras(102))\n",
    "print(numeros_a_palabras(0))"
   ]
  },
  {
   "cell_type": "code",
   "execution_count": null,
   "metadata": {},
   "outputs": [],
   "source": []
  }
 ],
 "metadata": {
  "kernelspec": {
   "display_name": "test",
   "language": "python",
   "name": "python3"
  },
  "language_info": {
   "codemirror_mode": {
    "name": "ipython",
    "version": 3
   },
   "file_extension": ".py",
   "mimetype": "text/x-python",
   "name": "python",
   "nbconvert_exporter": "python",
   "pygments_lexer": "ipython3",
   "version": "3.12.4"
  }
 },
 "nbformat": 4,
 "nbformat_minor": 2
}
